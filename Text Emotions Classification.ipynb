{
 "cells": [
  {
   "cell_type": "markdown",
   "source": [
    "# Text Emotion Classification using Machine Learning"
   ],
   "metadata": {
    "collapsed": false
   }
  },
  {
   "cell_type": "code",
   "execution_count": 4,
   "metadata": {
    "collapsed": true
   },
   "outputs": [],
   "source": [
    "import pandas as pd\n",
    "import numpy as np\n",
    "import keras\n",
    "import tensorflow\n",
    "from keras.preprocessing.text import Tokenizer\n",
    "from tensorflow.keras.preprocessing.sequence import pad_sequences\n",
    "\n",
    "from sklearn.preprocessing import LabelEncoder\n",
    "from sklearn.model_selection import train_test_split\n",
    "from keras.models import Sequential\n",
    "from keras.layers import Embedding, Flatten, Dense"
   ]
  },
  {
   "cell_type": "code",
   "execution_count": 5,
   "outputs": [
    {
     "data": {
      "text/plain": "                             i didnt feel humiliated  sadness\n0  i can go from feeling so hopeless to so damned...  sadness\n1   im grabbing a minute to post i feel greedy wrong    anger\n2  i am ever feeling nostalgic about the fireplac...     love\n3                               i am feeling grouchy    anger\n4  ive been feeling a little burdened lately wasn...  sadness",
      "text/html": "<div>\n<style scoped>\n    .dataframe tbody tr th:only-of-type {\n        vertical-align: middle;\n    }\n\n    .dataframe tbody tr th {\n        vertical-align: top;\n    }\n\n    .dataframe thead th {\n        text-align: right;\n    }\n</style>\n<table border=\"1\" class=\"dataframe\">\n  <thead>\n    <tr style=\"text-align: right;\">\n      <th></th>\n      <th>i didnt feel humiliated</th>\n      <th>sadness</th>\n    </tr>\n  </thead>\n  <tbody>\n    <tr>\n      <th>0</th>\n      <td>i can go from feeling so hopeless to so damned...</td>\n      <td>sadness</td>\n    </tr>\n    <tr>\n      <th>1</th>\n      <td>im grabbing a minute to post i feel greedy wrong</td>\n      <td>anger</td>\n    </tr>\n    <tr>\n      <th>2</th>\n      <td>i am ever feeling nostalgic about the fireplac...</td>\n      <td>love</td>\n    </tr>\n    <tr>\n      <th>3</th>\n      <td>i am feeling grouchy</td>\n      <td>anger</td>\n    </tr>\n    <tr>\n      <th>4</th>\n      <td>ive been feeling a little burdened lately wasn...</td>\n      <td>sadness</td>\n    </tr>\n  </tbody>\n</table>\n</div>"
     },
     "execution_count": 5,
     "metadata": {},
     "output_type": "execute_result"
    }
   ],
   "source": [
    "df = pd.read_csv('data/train.txt', sep = ';')\n",
    "df.head()"
   ],
   "metadata": {
    "collapsed": false
   }
  },
  {
   "cell_type": "code",
   "execution_count": 6,
   "outputs": [
    {
     "data": {
      "text/plain": "                                                Text Emotions\n0  i can go from feeling so hopeless to so damned...  sadness\n1   im grabbing a minute to post i feel greedy wrong    anger\n2  i am ever feeling nostalgic about the fireplac...     love\n3                               i am feeling grouchy    anger\n4  ive been feeling a little burdened lately wasn...  sadness",
      "text/html": "<div>\n<style scoped>\n    .dataframe tbody tr th:only-of-type {\n        vertical-align: middle;\n    }\n\n    .dataframe tbody tr th {\n        vertical-align: top;\n    }\n\n    .dataframe thead th {\n        text-align: right;\n    }\n</style>\n<table border=\"1\" class=\"dataframe\">\n  <thead>\n    <tr style=\"text-align: right;\">\n      <th></th>\n      <th>Text</th>\n      <th>Emotions</th>\n    </tr>\n  </thead>\n  <tbody>\n    <tr>\n      <th>0</th>\n      <td>i can go from feeling so hopeless to so damned...</td>\n      <td>sadness</td>\n    </tr>\n    <tr>\n      <th>1</th>\n      <td>im grabbing a minute to post i feel greedy wrong</td>\n      <td>anger</td>\n    </tr>\n    <tr>\n      <th>2</th>\n      <td>i am ever feeling nostalgic about the fireplac...</td>\n      <td>love</td>\n    </tr>\n    <tr>\n      <th>3</th>\n      <td>i am feeling grouchy</td>\n      <td>anger</td>\n    </tr>\n    <tr>\n      <th>4</th>\n      <td>ive been feeling a little burdened lately wasn...</td>\n      <td>sadness</td>\n    </tr>\n  </tbody>\n</table>\n</div>"
     },
     "execution_count": 6,
     "metadata": {},
     "output_type": "execute_result"
    }
   ],
   "source": [
    "# Since there is no header, now I will add header to the data.\n",
    "df.columns = ['Text', 'Emotions']\n",
    "df.head()"
   ],
   "metadata": {
    "collapsed": false
   }
  },
  {
   "cell_type": "markdown",
   "source": [
    "### Since we are using texts, it is best to tokenize the data."
   ],
   "metadata": {
    "collapsed": false
   }
  },
  {
   "cell_type": "code",
   "execution_count": 7,
   "outputs": [],
   "source": [
    "texts = df['Text'].tolist()\n",
    "labels = df['Emotions'].tolist()\n",
    "\n",
    "#Tokenizing\n",
    "tokenizer = Tokenizer()\n",
    "tokenizer.fit_on_texts(texts)"
   ],
   "metadata": {
    "collapsed": false
   }
  },
  {
   "cell_type": "markdown",
   "source": [
    "### All sentence must be of same length, so we now add sentence padding"
   ],
   "metadata": {
    "collapsed": false
   }
  },
  {
   "cell_type": "code",
   "execution_count": 8,
   "outputs": [],
   "source": [
    "sequences = tokenizer.texts_to_sequences(texts)\n",
    "max_length = max([len(seq) for seq in sequences])\n",
    "padded_sequences = pad_sequences(sequences, maxlen=max_length)"
   ],
   "metadata": {
    "collapsed": false
   }
  },
  {
   "cell_type": "code",
   "execution_count": 9,
   "outputs": [],
   "source": [
    "label_encoder = LabelEncoder()\n",
    "labels = label_encoder.fit_transform(labels)"
   ],
   "metadata": {
    "collapsed": false
   }
  },
  {
   "cell_type": "markdown",
   "source": [
    "### One Hot Encoding to vectorizing the data to Zeros and One."
   ],
   "metadata": {
    "collapsed": false
   }
  },
  {
   "cell_type": "code",
   "execution_count": 10,
   "outputs": [],
   "source": [
    "one_hot_labels = keras.utils.to_categorical(labels)"
   ],
   "metadata": {
    "collapsed": false
   }
  },
  {
   "cell_type": "code",
   "execution_count": 11,
   "outputs": [],
   "source": [
    "xtrain, xtest, ytrain, ytest = train_test_split(padded_sequences,\n",
    "                                                one_hot_labels,\n",
    "                                                test_size=0.2)"
   ],
   "metadata": {
    "collapsed": false
   }
  },
  {
   "cell_type": "markdown",
   "source": [
    "## Model Creation"
   ],
   "metadata": {
    "collapsed": false
   }
  },
  {
   "cell_type": "code",
   "execution_count": 12,
   "outputs": [
    {
     "name": "stdout",
     "output_type": "stream",
     "text": [
      "Epoch 1/20\n",
      "400/400 [==============================] - 3s 5ms/step - loss: 1.3545 - accuracy: 0.4688 - val_loss: 0.8205 - val_accuracy: 0.7119\n",
      "Epoch 2/20\n",
      "400/400 [==============================] - 2s 5ms/step - loss: 0.3405 - accuracy: 0.8938 - val_loss: 0.5289 - val_accuracy: 0.8241\n",
      "Epoch 3/20\n",
      "400/400 [==============================] - 2s 5ms/step - loss: 0.0583 - accuracy: 0.9852 - val_loss: 0.6057 - val_accuracy: 0.8238\n",
      "Epoch 4/20\n",
      "400/400 [==============================] - 2s 5ms/step - loss: 0.0247 - accuracy: 0.9948 - val_loss: 0.6071 - val_accuracy: 0.8259\n",
      "Epoch 5/20\n",
      "400/400 [==============================] - 2s 5ms/step - loss: 0.0174 - accuracy: 0.9961 - val_loss: 0.6347 - val_accuracy: 0.8197\n",
      "Epoch 6/20\n",
      "400/400 [==============================] - 2s 5ms/step - loss: 0.0153 - accuracy: 0.9967 - val_loss: 0.7111 - val_accuracy: 0.8206\n",
      "Epoch 7/20\n",
      "400/400 [==============================] - 2s 5ms/step - loss: 0.0110 - accuracy: 0.9975 - val_loss: 0.7303 - val_accuracy: 0.8175\n",
      "Epoch 8/20\n",
      "400/400 [==============================] - 2s 5ms/step - loss: 0.0110 - accuracy: 0.9972 - val_loss: 0.7585 - val_accuracy: 0.8169\n",
      "Epoch 9/20\n",
      "400/400 [==============================] - 2s 6ms/step - loss: 0.0099 - accuracy: 0.9979 - val_loss: 0.7485 - val_accuracy: 0.8197\n",
      "Epoch 10/20\n",
      "400/400 [==============================] - 2s 5ms/step - loss: 0.0099 - accuracy: 0.9973 - val_loss: 0.7543 - val_accuracy: 0.8213\n",
      "Epoch 11/20\n",
      "400/400 [==============================] - 2s 5ms/step - loss: 0.0076 - accuracy: 0.9977 - val_loss: 0.8783 - val_accuracy: 0.8112\n",
      "Epoch 12/20\n",
      "400/400 [==============================] - 2s 5ms/step - loss: 0.0078 - accuracy: 0.9978 - val_loss: 0.7913 - val_accuracy: 0.8144\n",
      "Epoch 13/20\n",
      "400/400 [==============================] - 2s 5ms/step - loss: 0.0069 - accuracy: 0.9979 - val_loss: 0.8335 - val_accuracy: 0.8166\n",
      "Epoch 14/20\n",
      "400/400 [==============================] - 2s 5ms/step - loss: 0.0061 - accuracy: 0.9974 - val_loss: 0.8632 - val_accuracy: 0.8194\n",
      "Epoch 15/20\n",
      "400/400 [==============================] - 2s 5ms/step - loss: 0.0055 - accuracy: 0.9975 - val_loss: 0.9314 - val_accuracy: 0.8150\n",
      "Epoch 16/20\n",
      "400/400 [==============================] - 2s 6ms/step - loss: 0.0047 - accuracy: 0.9977 - val_loss: 0.9412 - val_accuracy: 0.8128\n",
      "Epoch 17/20\n",
      "400/400 [==============================] - 2s 5ms/step - loss: 0.0042 - accuracy: 0.9978 - val_loss: 0.9601 - val_accuracy: 0.8119\n",
      "Epoch 18/20\n",
      "400/400 [==============================] - 2s 5ms/step - loss: 0.0035 - accuracy: 0.9980 - val_loss: 0.9822 - val_accuracy: 0.8087\n",
      "Epoch 19/20\n",
      "400/400 [==============================] - 2s 5ms/step - loss: 0.0128 - accuracy: 0.9949 - val_loss: 1.3619 - val_accuracy: 0.7663\n",
      "Epoch 20/20\n",
      "400/400 [==============================] - 2s 5ms/step - loss: 0.0404 - accuracy: 0.9870 - val_loss: 1.2457 - val_accuracy: 0.7825\n"
     ]
    },
    {
     "data": {
      "text/plain": "<keras.callbacks.History at 0x1d8a2c385e0>"
     },
     "execution_count": 12,
     "metadata": {},
     "output_type": "execute_result"
    }
   ],
   "source": [
    "model = Sequential()\n",
    "model.add(Embedding(input_dim=len(tokenizer.word_index) + 1,\n",
    "                    output_dim=128, input_length=max_length))\n",
    "model.add(Flatten())\n",
    "model.add(Dense(units=128, activation='relu'))\n",
    "model.add(Dense(units=len(one_hot_labels[0]), activation = 'softmax'))\n",
    "\n",
    "model.compile(optimizer='adam', loss = 'categorical_crossentropy', metrics=['accuracy'])\n",
    "model.fit(xtrain, ytrain, epochs=20, batch_size=32, validation_data = (xtest, ytest))"
   ],
   "metadata": {
    "collapsed": false
   }
  },
  {
   "cell_type": "code",
   "execution_count": 13,
   "outputs": [],
   "source": [
    "input_text = \"I got a job offer, I'm going to skydive.\""
   ],
   "metadata": {
    "collapsed": false
   }
  },
  {
   "cell_type": "code",
   "execution_count": 14,
   "outputs": [
    {
     "name": "stdout",
     "output_type": "stream",
     "text": [
      "1/1 [==============================] - 0s 70ms/step\n",
      "['joy']\n"
     ]
    }
   ],
   "source": [
    "#preprocess input text\n",
    "input_sequence = tokenizer.texts_to_sequences([input_text])\n",
    "padded_input_sequence = pad_sequences(input_sequence, maxlen=max_length)\n",
    "\n",
    "prediction = model.predict(padded_input_sequence)\n",
    "predicted_label = label_encoder.inverse_transform([np.argmax(prediction[0])])\n",
    "print(predicted_label)"
   ],
   "metadata": {
    "collapsed": false
   }
  },
  {
   "cell_type": "code",
   "execution_count": null,
   "outputs": [],
   "source": [],
   "metadata": {
    "collapsed": false
   }
  }
 ],
 "metadata": {
  "kernelspec": {
   "name": "portfolio",
   "language": "python",
   "display_name": "portfolio"
  },
  "language_info": {
   "codemirror_mode": {
    "name": "ipython",
    "version": 2
   },
   "file_extension": ".py",
   "mimetype": "text/x-python",
   "name": "python",
   "nbconvert_exporter": "python",
   "pygments_lexer": "ipython2",
   "version": "2.7.6"
  }
 },
 "nbformat": 4,
 "nbformat_minor": 0
}
